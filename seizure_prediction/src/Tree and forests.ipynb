{
 "cells": [
  {
   "cell_type": "code",
   "execution_count": 399,
   "metadata": {
    "collapsed": true
   },
   "outputs": [],
   "source": [
    "import pandas as pd\n",
    "import numpy as np\n",
    "import matplotlib.pyplot as plt\n",
    "import sklearn as sk"
   ]
  },
  {
   "cell_type": "code",
   "execution_count": 400,
   "metadata": {
    "collapsed": false
   },
   "outputs": [
    {
     "data": {
      "text/plain": [
       "True"
      ]
     },
     "execution_count": 400,
     "metadata": {},
     "output_type": "execute_result"
    }
   ],
   "source": [
    "sk.__version__ == '0.17.1'"
   ]
  },
  {
   "cell_type": "code",
   "execution_count": 401,
   "metadata": {
    "collapsed": true
   },
   "outputs": [],
   "source": [
    "fname = '../processed/train_1_std.csv'"
   ]
  },
  {
   "cell_type": "code",
   "execution_count": 402,
   "metadata": {
    "collapsed": false
   },
   "outputs": [],
   "source": [
    "df = pd.read_csv(fname, index_col=['patient', 'sequence'])"
   ]
  },
  {
   "cell_type": "code",
   "execution_count": 403,
   "metadata": {
    "collapsed": false
   },
   "outputs": [],
   "source": [
    "df['patient'] = df.index.get_level_values('patient')"
   ]
  },
  {
   "cell_type": "code",
   "execution_count": 404,
   "metadata": {
    "collapsed": false
   },
   "outputs": [
    {
     "data": {
      "text/html": [
       "<div>\n",
       "<table border=\"1\" class=\"dataframe\">\n",
       "  <thead>\n",
       "    <tr style=\"text-align: right;\">\n",
       "      <th></th>\n",
       "      <th></th>\n",
       "      <th>Unnamed: 0</th>\n",
       "      <th>class</th>\n",
       "      <th>ch1_std</th>\n",
       "      <th>ch2_std</th>\n",
       "      <th>ch3_std</th>\n",
       "      <th>ch4_std</th>\n",
       "      <th>ch5_std</th>\n",
       "      <th>ch6_std</th>\n",
       "      <th>ch7_std</th>\n",
       "      <th>ch8_std</th>\n",
       "      <th>ch9_std</th>\n",
       "      <th>ch10_std</th>\n",
       "      <th>ch11_std</th>\n",
       "      <th>ch12_std</th>\n",
       "      <th>ch13_std</th>\n",
       "      <th>ch14_std</th>\n",
       "      <th>ch15_std</th>\n",
       "      <th>ch16_std</th>\n",
       "      <th>patient</th>\n",
       "    </tr>\n",
       "    <tr>\n",
       "      <th>patient</th>\n",
       "      <th>sequence</th>\n",
       "      <th></th>\n",
       "      <th></th>\n",
       "      <th></th>\n",
       "      <th></th>\n",
       "      <th></th>\n",
       "      <th></th>\n",
       "      <th></th>\n",
       "      <th></th>\n",
       "      <th></th>\n",
       "      <th></th>\n",
       "      <th></th>\n",
       "      <th></th>\n",
       "      <th></th>\n",
       "      <th></th>\n",
       "      <th></th>\n",
       "      <th></th>\n",
       "      <th></th>\n",
       "      <th></th>\n",
       "      <th></th>\n",
       "    </tr>\n",
       "  </thead>\n",
       "  <tbody>\n",
       "    <tr>\n",
       "      <th rowspan=\"5\" valign=\"top\">1</th>\n",
       "      <th>741</th>\n",
       "      <td>0</td>\n",
       "      <td>0</td>\n",
       "      <td>30.001209</td>\n",
       "      <td>36.598148</td>\n",
       "      <td>53.995872</td>\n",
       "      <td>71.242851</td>\n",
       "      <td>36.546936</td>\n",
       "      <td>32.876976</td>\n",
       "      <td>37.591618</td>\n",
       "      <td>30.840115</td>\n",
       "      <td>34.531139</td>\n",
       "      <td>64.884460</td>\n",
       "      <td>53.472511</td>\n",
       "      <td>73.647881</td>\n",
       "      <td>109.620033</td>\n",
       "      <td>74.800835</td>\n",
       "      <td>56.921181</td>\n",
       "      <td>32.968693</td>\n",
       "      <td>1</td>\n",
       "    </tr>\n",
       "    <tr>\n",
       "      <th>391</th>\n",
       "      <td>0</td>\n",
       "      <td>0</td>\n",
       "      <td>29.849613</td>\n",
       "      <td>33.269840</td>\n",
       "      <td>31.691141</td>\n",
       "      <td>49.655483</td>\n",
       "      <td>31.573727</td>\n",
       "      <td>26.656073</td>\n",
       "      <td>33.530617</td>\n",
       "      <td>25.830921</td>\n",
       "      <td>37.151855</td>\n",
       "      <td>39.520374</td>\n",
       "      <td>42.006302</td>\n",
       "      <td>46.067116</td>\n",
       "      <td>59.878780</td>\n",
       "      <td>58.723934</td>\n",
       "      <td>50.260895</td>\n",
       "      <td>32.333519</td>\n",
       "      <td>1</td>\n",
       "    </tr>\n",
       "    <tr>\n",
       "      <th>60</th>\n",
       "      <td>0</td>\n",
       "      <td>0</td>\n",
       "      <td>39.175552</td>\n",
       "      <td>44.239334</td>\n",
       "      <td>45.325638</td>\n",
       "      <td>67.734123</td>\n",
       "      <td>33.727585</td>\n",
       "      <td>31.362070</td>\n",
       "      <td>52.725853</td>\n",
       "      <td>32.225368</td>\n",
       "      <td>37.673050</td>\n",
       "      <td>59.527214</td>\n",
       "      <td>54.226551</td>\n",
       "      <td>84.626839</td>\n",
       "      <td>97.050232</td>\n",
       "      <td>69.241440</td>\n",
       "      <td>72.718010</td>\n",
       "      <td>49.215675</td>\n",
       "      <td>1</td>\n",
       "    </tr>\n",
       "    <tr>\n",
       "      <th>53</th>\n",
       "      <td>0</td>\n",
       "      <td>1</td>\n",
       "      <td>29.169195</td>\n",
       "      <td>33.420586</td>\n",
       "      <td>31.578693</td>\n",
       "      <td>49.062374</td>\n",
       "      <td>30.313606</td>\n",
       "      <td>25.454767</td>\n",
       "      <td>41.017319</td>\n",
       "      <td>23.387936</td>\n",
       "      <td>25.741819</td>\n",
       "      <td>33.432869</td>\n",
       "      <td>27.790684</td>\n",
       "      <td>29.381090</td>\n",
       "      <td>70.411804</td>\n",
       "      <td>46.871876</td>\n",
       "      <td>48.624657</td>\n",
       "      <td>24.491415</td>\n",
       "      <td>1</td>\n",
       "    </tr>\n",
       "    <tr>\n",
       "      <th>185</th>\n",
       "      <td>0</td>\n",
       "      <td>0</td>\n",
       "      <td>40.642078</td>\n",
       "      <td>42.597218</td>\n",
       "      <td>50.885082</td>\n",
       "      <td>68.994377</td>\n",
       "      <td>63.758125</td>\n",
       "      <td>42.572964</td>\n",
       "      <td>48.451591</td>\n",
       "      <td>37.481049</td>\n",
       "      <td>48.073223</td>\n",
       "      <td>60.093315</td>\n",
       "      <td>68.749359</td>\n",
       "      <td>127.105988</td>\n",
       "      <td>121.595505</td>\n",
       "      <td>84.184784</td>\n",
       "      <td>90.390167</td>\n",
       "      <td>47.828560</td>\n",
       "      <td>1</td>\n",
       "    </tr>\n",
       "  </tbody>\n",
       "</table>\n",
       "</div>"
      ],
      "text/plain": [
       "                  Unnamed: 0  class    ch1_std    ch2_std    ch3_std  \\\n",
       "patient sequence                                                       \n",
       "1       741                0      0  30.001209  36.598148  53.995872   \n",
       "        391                0      0  29.849613  33.269840  31.691141   \n",
       "        60                 0      0  39.175552  44.239334  45.325638   \n",
       "        53                 0      1  29.169195  33.420586  31.578693   \n",
       "        185                0      0  40.642078  42.597218  50.885082   \n",
       "\n",
       "                    ch4_std    ch5_std    ch6_std    ch7_std    ch8_std  \\\n",
       "patient sequence                                                          \n",
       "1       741       71.242851  36.546936  32.876976  37.591618  30.840115   \n",
       "        391       49.655483  31.573727  26.656073  33.530617  25.830921   \n",
       "        60        67.734123  33.727585  31.362070  52.725853  32.225368   \n",
       "        53        49.062374  30.313606  25.454767  41.017319  23.387936   \n",
       "        185       68.994377  63.758125  42.572964  48.451591  37.481049   \n",
       "\n",
       "                    ch9_std   ch10_std   ch11_std    ch12_std    ch13_std  \\\n",
       "patient sequence                                                            \n",
       "1       741       34.531139  64.884460  53.472511   73.647881  109.620033   \n",
       "        391       37.151855  39.520374  42.006302   46.067116   59.878780   \n",
       "        60        37.673050  59.527214  54.226551   84.626839   97.050232   \n",
       "        53        25.741819  33.432869  27.790684   29.381090   70.411804   \n",
       "        185       48.073223  60.093315  68.749359  127.105988  121.595505   \n",
       "\n",
       "                   ch14_std   ch15_std   ch16_std  patient  \n",
       "patient sequence                                            \n",
       "1       741       74.800835  56.921181  32.968693        1  \n",
       "        391       58.723934  50.260895  32.333519        1  \n",
       "        60        69.241440  72.718010  49.215675        1  \n",
       "        53        46.871876  48.624657  24.491415        1  \n",
       "        185       84.184784  90.390167  47.828560        1  "
      ]
     },
     "execution_count": 404,
     "metadata": {},
     "output_type": "execute_result"
    }
   ],
   "source": [
    "df.head()"
   ]
  },
  {
   "cell_type": "code",
   "execution_count": 405,
   "metadata": {
    "collapsed": false
   },
   "outputs": [
    {
     "data": {
      "text/plain": [
       "count    6041.00000\n",
       "mean        2.18093\n",
       "std         0.76093\n",
       "min         1.00000\n",
       "25%         2.00000\n",
       "50%         2.00000\n",
       "75%         3.00000\n",
       "max         3.00000\n",
       "Name: patient, dtype: float64"
      ]
     },
     "execution_count": 405,
     "metadata": {},
     "output_type": "execute_result"
    }
   ],
   "source": [
    "df.patient.describe()"
   ]
  },
  {
   "cell_type": "code",
   "execution_count": 406,
   "metadata": {
    "collapsed": false
   },
   "outputs": [],
   "source": [
    "y = df['class']"
   ]
  },
  {
   "cell_type": "code",
   "execution_count": 407,
   "metadata": {
    "collapsed": false
   },
   "outputs": [
    {
     "data": {
      "text/plain": [
       "[(0, 'ch1_std'),\n",
       " (1, 'ch2_std'),\n",
       " (2, 'ch3_std'),\n",
       " (3, 'ch4_std'),\n",
       " (4, 'ch5_std'),\n",
       " (5, 'ch6_std'),\n",
       " (6, 'ch7_std'),\n",
       " (7, 'ch8_std'),\n",
       " (8, 'ch9_std'),\n",
       " (9, 'ch10_std'),\n",
       " (10, 'ch11_std'),\n",
       " (11, 'ch12_std'),\n",
       " (12, 'ch13_std'),\n",
       " (13, 'ch14_std'),\n",
       " (14, 'ch15_std'),\n",
       " (15, 'ch16_std'),\n",
       " (16, 'patient')]"
      ]
     },
     "execution_count": 407,
     "metadata": {},
     "output_type": "execute_result"
    }
   ],
   "source": [
    "feature_names = [col for col in df.columns if col.startswith('ch') or col == 'patient']\n",
    "list(enumerate(feature_names))"
   ]
  },
  {
   "cell_type": "code",
   "execution_count": 408,
   "metadata": {
    "collapsed": false
   },
   "outputs": [],
   "source": [
    "X = df[feature_names]"
   ]
  },
  {
   "cell_type": "code",
   "execution_count": 409,
   "metadata": {
    "collapsed": true
   },
   "outputs": [],
   "source": [
    "from sklearn import cross_validation"
   ]
  },
  {
   "cell_type": "code",
   "execution_count": 410,
   "metadata": {
    "collapsed": false
   },
   "outputs": [],
   "source": [
    "X_train, X_test, y_train, y_test =  cross_validation.train_test_split(X, y, test_size=0.8, random_state=0)"
   ]
  },
  {
   "cell_type": "code",
   "execution_count": 411,
   "metadata": {
    "collapsed": false
   },
   "outputs": [],
   "source": [
    "from sklearn import tree"
   ]
  },
  {
   "cell_type": "code",
   "execution_count": 412,
   "metadata": {
    "collapsed": false
   },
   "outputs": [],
   "source": [
    "clf = tree.DecisionTreeClassifier()"
   ]
  },
  {
   "cell_type": "code",
   "execution_count": 413,
   "metadata": {
    "collapsed": false
   },
   "outputs": [],
   "source": [
    "clf = clf.fit(X_train, y_train)"
   ]
  },
  {
   "cell_type": "code",
   "execution_count": 414,
   "metadata": {
    "collapsed": false
   },
   "outputs": [
    {
     "data": {
      "text/plain": [
       "0.88909579971032482"
      ]
     },
     "execution_count": 414,
     "metadata": {},
     "output_type": "execute_result"
    }
   ],
   "source": [
    "clf.score(X_test, y_test)"
   ]
  },
  {
   "cell_type": "code",
   "execution_count": 415,
   "metadata": {
    "collapsed": false
   },
   "outputs": [],
   "source": [
    "tree.export_graphviz(clf, out_file='tree.dot')"
   ]
  },
  {
   "cell_type": "code",
   "execution_count": 416,
   "metadata": {
    "collapsed": true
   },
   "outputs": [],
   "source": [
    "from sklearn.ensemble import RandomForestClassifier"
   ]
  },
  {
   "cell_type": "code",
   "execution_count": 417,
   "metadata": {
    "collapsed": true
   },
   "outputs": [],
   "source": [
    "clf_forest = RandomForestClassifier()"
   ]
  },
  {
   "cell_type": "code",
   "execution_count": 418,
   "metadata": {
    "collapsed": true
   },
   "outputs": [],
   "source": [
    "clf_forest = clf_forest.fit(X_train, y_train)"
   ]
  },
  {
   "cell_type": "code",
   "execution_count": 419,
   "metadata": {
    "collapsed": false
   },
   "outputs": [
    {
     "data": {
      "text/plain": [
       "0.92178770949720668"
      ]
     },
     "execution_count": 419,
     "metadata": {},
     "output_type": "execute_result"
    }
   ],
   "source": [
    "clf_forest.score(X_test, y_test)"
   ]
  },
  {
   "cell_type": "markdown",
   "metadata": {},
   "source": [
    "# Classify with all train data for submission"
   ]
  },
  {
   "cell_type": "code",
   "execution_count": 420,
   "metadata": {
    "collapsed": true
   },
   "outputs": [],
   "source": [
    "#clf_forest_all = clf_forest.fit(X, y)\n",
    "clf_forest_all = clf.fit(X, y)"
   ]
  },
  {
   "cell_type": "code",
   "execution_count": 421,
   "metadata": {
    "collapsed": false
   },
   "outputs": [
    {
     "data": {
      "text/plain": [
       "0.99751707014276847"
      ]
     },
     "execution_count": 421,
     "metadata": {},
     "output_type": "execute_result"
    }
   ],
   "source": [
    "clf_forest_all.score(X_test, y_test)"
   ]
  },
  {
   "cell_type": "code",
   "execution_count": 435,
   "metadata": {
    "collapsed": true
   },
   "outputs": [],
   "source": [
    "fname = '../processed/test_1_std.csv'"
   ]
  },
  {
   "cell_type": "code",
   "execution_count": 436,
   "metadata": {
    "collapsed": false
   },
   "outputs": [],
   "source": [
    "df_sub = pd.read_csv(fname, index_col=[1, 2])"
   ]
  },
  {
   "cell_type": "code",
   "execution_count": 437,
   "metadata": {
    "collapsed": false,
    "scrolled": true
   },
   "outputs": [],
   "source": [
    "df_sub['patient'] = df_sub.index.get_level_values('patient')"
   ]
  },
  {
   "cell_type": "code",
   "execution_count": 438,
   "metadata": {
    "collapsed": false
   },
   "outputs": [
    {
     "data": {
      "text/html": [
       "<div>\n",
       "<table border=\"1\" class=\"dataframe\">\n",
       "  <thead>\n",
       "    <tr style=\"text-align: right;\">\n",
       "      <th></th>\n",
       "      <th>Unnamed: 0</th>\n",
       "      <th>ch1_std</th>\n",
       "      <th>ch2_std</th>\n",
       "      <th>ch3_std</th>\n",
       "      <th>ch4_std</th>\n",
       "      <th>ch5_std</th>\n",
       "      <th>ch6_std</th>\n",
       "      <th>ch7_std</th>\n",
       "      <th>ch8_std</th>\n",
       "      <th>ch9_std</th>\n",
       "      <th>ch10_std</th>\n",
       "      <th>ch11_std</th>\n",
       "      <th>ch12_std</th>\n",
       "      <th>ch13_std</th>\n",
       "      <th>ch14_std</th>\n",
       "      <th>ch15_std</th>\n",
       "      <th>ch16_std</th>\n",
       "      <th>patient</th>\n",
       "    </tr>\n",
       "  </thead>\n",
       "  <tbody>\n",
       "    <tr>\n",
       "      <th>count</th>\n",
       "      <td>1908.0</td>\n",
       "      <td>1908.000000</td>\n",
       "      <td>1908.000000</td>\n",
       "      <td>1908.000000</td>\n",
       "      <td>1908.000000</td>\n",
       "      <td>1908.000000</td>\n",
       "      <td>1908.000000</td>\n",
       "      <td>1908.000000</td>\n",
       "      <td>1908.000000</td>\n",
       "      <td>1908.000000</td>\n",
       "      <td>1908.000000</td>\n",
       "      <td>1908.000000</td>\n",
       "      <td>1908.000000</td>\n",
       "      <td>1908.000000</td>\n",
       "      <td>1908.000000</td>\n",
       "      <td>1908.000000</td>\n",
       "      <td>1908.000000</td>\n",
       "      <td>1908.000000</td>\n",
       "    </tr>\n",
       "    <tr>\n",
       "      <th>mean</th>\n",
       "      <td>0.0</td>\n",
       "      <td>46.544194</td>\n",
       "      <td>41.858337</td>\n",
       "      <td>33.499986</td>\n",
       "      <td>38.973543</td>\n",
       "      <td>39.614467</td>\n",
       "      <td>42.644714</td>\n",
       "      <td>37.147674</td>\n",
       "      <td>40.061862</td>\n",
       "      <td>33.396188</td>\n",
       "      <td>36.735170</td>\n",
       "      <td>30.537075</td>\n",
       "      <td>33.015852</td>\n",
       "      <td>36.206134</td>\n",
       "      <td>37.435151</td>\n",
       "      <td>31.390745</td>\n",
       "      <td>30.095346</td>\n",
       "      <td>2.248428</td>\n",
       "    </tr>\n",
       "    <tr>\n",
       "      <th>std</th>\n",
       "      <td>0.0</td>\n",
       "      <td>15.712317</td>\n",
       "      <td>15.883839</td>\n",
       "      <td>10.798497</td>\n",
       "      <td>18.513934</td>\n",
       "      <td>15.388477</td>\n",
       "      <td>16.914235</td>\n",
       "      <td>14.048299</td>\n",
       "      <td>14.918514</td>\n",
       "      <td>12.439533</td>\n",
       "      <td>19.566093</td>\n",
       "      <td>12.711446</td>\n",
       "      <td>19.281434</td>\n",
       "      <td>16.984555</td>\n",
       "      <td>14.934452</td>\n",
       "      <td>14.121673</td>\n",
       "      <td>9.519751</td>\n",
       "      <td>0.642918</td>\n",
       "    </tr>\n",
       "    <tr>\n",
       "      <th>min</th>\n",
       "      <td>0.0</td>\n",
       "      <td>0.000000</td>\n",
       "      <td>0.000000</td>\n",
       "      <td>0.000000</td>\n",
       "      <td>0.000000</td>\n",
       "      <td>0.000000</td>\n",
       "      <td>0.000000</td>\n",
       "      <td>0.000000</td>\n",
       "      <td>0.000000</td>\n",
       "      <td>0.000000</td>\n",
       "      <td>0.000000</td>\n",
       "      <td>0.000000</td>\n",
       "      <td>0.000000</td>\n",
       "      <td>0.000000</td>\n",
       "      <td>0.000000</td>\n",
       "      <td>0.000000</td>\n",
       "      <td>0.000000</td>\n",
       "      <td>1.000000</td>\n",
       "    </tr>\n",
       "    <tr>\n",
       "      <th>25%</th>\n",
       "      <td>0.0</td>\n",
       "      <td>35.592843</td>\n",
       "      <td>33.275070</td>\n",
       "      <td>26.218339</td>\n",
       "      <td>30.260492</td>\n",
       "      <td>27.627309</td>\n",
       "      <td>32.308621</td>\n",
       "      <td>28.113443</td>\n",
       "      <td>30.045852</td>\n",
       "      <td>25.796482</td>\n",
       "      <td>24.185089</td>\n",
       "      <td>24.107028</td>\n",
       "      <td>22.613567</td>\n",
       "      <td>26.359282</td>\n",
       "      <td>27.942963</td>\n",
       "      <td>23.745563</td>\n",
       "      <td>25.564373</td>\n",
       "      <td>2.000000</td>\n",
       "    </tr>\n",
       "    <tr>\n",
       "      <th>50%</th>\n",
       "      <td>0.0</td>\n",
       "      <td>47.613304</td>\n",
       "      <td>40.744572</td>\n",
       "      <td>34.626486</td>\n",
       "      <td>36.852621</td>\n",
       "      <td>42.508890</td>\n",
       "      <td>42.402687</td>\n",
       "      <td>36.574831</td>\n",
       "      <td>38.552090</td>\n",
       "      <td>30.684912</td>\n",
       "      <td>29.554699</td>\n",
       "      <td>27.562990</td>\n",
       "      <td>26.915212</td>\n",
       "      <td>31.755081</td>\n",
       "      <td>34.498133</td>\n",
       "      <td>26.910230</td>\n",
       "      <td>28.299054</td>\n",
       "      <td>2.000000</td>\n",
       "    </tr>\n",
       "    <tr>\n",
       "      <th>75%</th>\n",
       "      <td>0.0</td>\n",
       "      <td>57.597687</td>\n",
       "      <td>48.591348</td>\n",
       "      <td>38.841449</td>\n",
       "      <td>42.120513</td>\n",
       "      <td>49.579879</td>\n",
       "      <td>51.155821</td>\n",
       "      <td>46.267823</td>\n",
       "      <td>49.035939</td>\n",
       "      <td>40.715654</td>\n",
       "      <td>45.758031</td>\n",
       "      <td>33.730479</td>\n",
       "      <td>38.552855</td>\n",
       "      <td>41.291926</td>\n",
       "      <td>44.456893</td>\n",
       "      <td>36.671268</td>\n",
       "      <td>34.379143</td>\n",
       "      <td>3.000000</td>\n",
       "    </tr>\n",
       "    <tr>\n",
       "      <th>max</th>\n",
       "      <td>0.0</td>\n",
       "      <td>103.884125</td>\n",
       "      <td>144.490280</td>\n",
       "      <td>72.095688</td>\n",
       "      <td>130.380997</td>\n",
       "      <td>91.363213</td>\n",
       "      <td>130.415497</td>\n",
       "      <td>86.620995</td>\n",
       "      <td>105.983322</td>\n",
       "      <td>84.809578</td>\n",
       "      <td>116.491692</td>\n",
       "      <td>88.339867</td>\n",
       "      <td>152.924759</td>\n",
       "      <td>111.539627</td>\n",
       "      <td>95.627960</td>\n",
       "      <td>95.114655</td>\n",
       "      <td>66.927780</td>\n",
       "      <td>3.000000</td>\n",
       "    </tr>\n",
       "  </tbody>\n",
       "</table>\n",
       "</div>"
      ],
      "text/plain": [
       "       Unnamed: 0      ch1_std      ch2_std      ch3_std      ch4_std  \\\n",
       "count      1908.0  1908.000000  1908.000000  1908.000000  1908.000000   \n",
       "mean          0.0    46.544194    41.858337    33.499986    38.973543   \n",
       "std           0.0    15.712317    15.883839    10.798497    18.513934   \n",
       "min           0.0     0.000000     0.000000     0.000000     0.000000   \n",
       "25%           0.0    35.592843    33.275070    26.218339    30.260492   \n",
       "50%           0.0    47.613304    40.744572    34.626486    36.852621   \n",
       "75%           0.0    57.597687    48.591348    38.841449    42.120513   \n",
       "max           0.0   103.884125   144.490280    72.095688   130.380997   \n",
       "\n",
       "           ch5_std      ch6_std      ch7_std      ch8_std      ch9_std  \\\n",
       "count  1908.000000  1908.000000  1908.000000  1908.000000  1908.000000   \n",
       "mean     39.614467    42.644714    37.147674    40.061862    33.396188   \n",
       "std      15.388477    16.914235    14.048299    14.918514    12.439533   \n",
       "min       0.000000     0.000000     0.000000     0.000000     0.000000   \n",
       "25%      27.627309    32.308621    28.113443    30.045852    25.796482   \n",
       "50%      42.508890    42.402687    36.574831    38.552090    30.684912   \n",
       "75%      49.579879    51.155821    46.267823    49.035939    40.715654   \n",
       "max      91.363213   130.415497    86.620995   105.983322    84.809578   \n",
       "\n",
       "          ch10_std     ch11_std     ch12_std     ch13_std     ch14_std  \\\n",
       "count  1908.000000  1908.000000  1908.000000  1908.000000  1908.000000   \n",
       "mean     36.735170    30.537075    33.015852    36.206134    37.435151   \n",
       "std      19.566093    12.711446    19.281434    16.984555    14.934452   \n",
       "min       0.000000     0.000000     0.000000     0.000000     0.000000   \n",
       "25%      24.185089    24.107028    22.613567    26.359282    27.942963   \n",
       "50%      29.554699    27.562990    26.915212    31.755081    34.498133   \n",
       "75%      45.758031    33.730479    38.552855    41.291926    44.456893   \n",
       "max     116.491692    88.339867   152.924759   111.539627    95.627960   \n",
       "\n",
       "          ch15_std     ch16_std      patient  \n",
       "count  1908.000000  1908.000000  1908.000000  \n",
       "mean     31.390745    30.095346     2.248428  \n",
       "std      14.121673     9.519751     0.642918  \n",
       "min       0.000000     0.000000     1.000000  \n",
       "25%      23.745563    25.564373     2.000000  \n",
       "50%      26.910230    28.299054     2.000000  \n",
       "75%      36.671268    34.379143     3.000000  \n",
       "max      95.114655    66.927780     3.000000  "
      ]
     },
     "execution_count": 438,
     "metadata": {},
     "output_type": "execute_result"
    }
   ],
   "source": [
    "df_sub.describe()"
   ]
  },
  {
   "cell_type": "code",
   "execution_count": 439,
   "metadata": {
    "collapsed": true
   },
   "outputs": [],
   "source": [
    "X_sub = df_sub[feature_names]"
   ]
  },
  {
   "cell_type": "code",
   "execution_count": 440,
   "metadata": {
    "collapsed": false
   },
   "outputs": [],
   "source": [
    "df_sub['predicted_class'] = clf_forest_all.predict(X_sub)"
   ]
  },
  {
   "cell_type": "code",
   "execution_count": 441,
   "metadata": {
    "collapsed": false
   },
   "outputs": [
    {
     "data": {
      "text/html": [
       "<div>\n",
       "<table border=\"1\" class=\"dataframe\">\n",
       "  <thead>\n",
       "    <tr style=\"text-align: right;\">\n",
       "      <th></th>\n",
       "      <th></th>\n",
       "      <th>Unnamed: 0</th>\n",
       "      <th>ch1_std</th>\n",
       "      <th>ch2_std</th>\n",
       "      <th>ch3_std</th>\n",
       "      <th>ch4_std</th>\n",
       "      <th>ch5_std</th>\n",
       "      <th>ch6_std</th>\n",
       "      <th>ch7_std</th>\n",
       "      <th>ch8_std</th>\n",
       "      <th>ch9_std</th>\n",
       "      <th>ch10_std</th>\n",
       "      <th>ch11_std</th>\n",
       "      <th>ch12_std</th>\n",
       "      <th>ch13_std</th>\n",
       "      <th>ch14_std</th>\n",
       "      <th>ch15_std</th>\n",
       "      <th>ch16_std</th>\n",
       "      <th>patient</th>\n",
       "      <th>predicted_class</th>\n",
       "    </tr>\n",
       "    <tr>\n",
       "      <th>patient</th>\n",
       "      <th>sequence</th>\n",
       "      <th></th>\n",
       "      <th></th>\n",
       "      <th></th>\n",
       "      <th></th>\n",
       "      <th></th>\n",
       "      <th></th>\n",
       "      <th></th>\n",
       "      <th></th>\n",
       "      <th></th>\n",
       "      <th></th>\n",
       "      <th></th>\n",
       "      <th></th>\n",
       "      <th></th>\n",
       "      <th></th>\n",
       "      <th></th>\n",
       "      <th></th>\n",
       "      <th></th>\n",
       "      <th></th>\n",
       "      <th></th>\n",
       "    </tr>\n",
       "  </thead>\n",
       "  <tbody>\n",
       "    <tr>\n",
       "      <th rowspan=\"5\" valign=\"top\">1</th>\n",
       "      <th>65</th>\n",
       "      <td>0</td>\n",
       "      <td>32.889275</td>\n",
       "      <td>38.808144</td>\n",
       "      <td>47.622635</td>\n",
       "      <td>89.060455</td>\n",
       "      <td>41.651985</td>\n",
       "      <td>35.953571</td>\n",
       "      <td>41.696873</td>\n",
       "      <td>53.415058</td>\n",
       "      <td>41.060280</td>\n",
       "      <td>114.063362</td>\n",
       "      <td>56.787312</td>\n",
       "      <td>59.822887</td>\n",
       "      <td>96.437332</td>\n",
       "      <td>86.869263</td>\n",
       "      <td>67.066429</td>\n",
       "      <td>35.295109</td>\n",
       "      <td>1</td>\n",
       "      <td>0</td>\n",
       "    </tr>\n",
       "    <tr>\n",
       "      <th>170</th>\n",
       "      <td>0</td>\n",
       "      <td>34.682610</td>\n",
       "      <td>45.163467</td>\n",
       "      <td>53.935089</td>\n",
       "      <td>112.369675</td>\n",
       "      <td>48.900314</td>\n",
       "      <td>41.770973</td>\n",
       "      <td>51.117962</td>\n",
       "      <td>54.301083</td>\n",
       "      <td>53.065399</td>\n",
       "      <td>99.825851</td>\n",
       "      <td>82.284698</td>\n",
       "      <td>137.252090</td>\n",
       "      <td>90.898674</td>\n",
       "      <td>74.906319</td>\n",
       "      <td>87.960327</td>\n",
       "      <td>53.753510</td>\n",
       "      <td>1</td>\n",
       "      <td>0</td>\n",
       "    </tr>\n",
       "    <tr>\n",
       "      <th>2</th>\n",
       "      <td>0</td>\n",
       "      <td>26.233797</td>\n",
       "      <td>33.873650</td>\n",
       "      <td>39.946350</td>\n",
       "      <td>70.137772</td>\n",
       "      <td>33.096092</td>\n",
       "      <td>31.394903</td>\n",
       "      <td>31.886017</td>\n",
       "      <td>37.874424</td>\n",
       "      <td>33.565372</td>\n",
       "      <td>88.531799</td>\n",
       "      <td>46.635372</td>\n",
       "      <td>57.745369</td>\n",
       "      <td>59.586040</td>\n",
       "      <td>59.716976</td>\n",
       "      <td>54.871052</td>\n",
       "      <td>30.708910</td>\n",
       "      <td>1</td>\n",
       "      <td>0</td>\n",
       "    </tr>\n",
       "    <tr>\n",
       "      <th>211</th>\n",
       "      <td>0</td>\n",
       "      <td>37.646885</td>\n",
       "      <td>48.481514</td>\n",
       "      <td>59.472652</td>\n",
       "      <td>115.521790</td>\n",
       "      <td>51.417587</td>\n",
       "      <td>43.347759</td>\n",
       "      <td>54.501293</td>\n",
       "      <td>66.106453</td>\n",
       "      <td>54.484615</td>\n",
       "      <td>102.296196</td>\n",
       "      <td>88.339867</td>\n",
       "      <td>152.924759</td>\n",
       "      <td>99.217773</td>\n",
       "      <td>83.829041</td>\n",
       "      <td>94.441162</td>\n",
       "      <td>58.176598</td>\n",
       "      <td>1</td>\n",
       "      <td>0</td>\n",
       "    </tr>\n",
       "    <tr>\n",
       "      <th>16</th>\n",
       "      <td>0</td>\n",
       "      <td>31.988363</td>\n",
       "      <td>37.469818</td>\n",
       "      <td>38.470387</td>\n",
       "      <td>74.591270</td>\n",
       "      <td>37.817921</td>\n",
       "      <td>29.824089</td>\n",
       "      <td>35.416916</td>\n",
       "      <td>45.146580</td>\n",
       "      <td>41.211319</td>\n",
       "      <td>65.366302</td>\n",
       "      <td>49.781918</td>\n",
       "      <td>31.579468</td>\n",
       "      <td>67.788452</td>\n",
       "      <td>74.593742</td>\n",
       "      <td>44.673256</td>\n",
       "      <td>32.227440</td>\n",
       "      <td>1</td>\n",
       "      <td>0</td>\n",
       "    </tr>\n",
       "  </tbody>\n",
       "</table>\n",
       "</div>"
      ],
      "text/plain": [
       "                  Unnamed: 0    ch1_std    ch2_std    ch3_std     ch4_std  \\\n",
       "patient sequence                                                            \n",
       "1       65                 0  32.889275  38.808144  47.622635   89.060455   \n",
       "        170                0  34.682610  45.163467  53.935089  112.369675   \n",
       "        2                  0  26.233797  33.873650  39.946350   70.137772   \n",
       "        211                0  37.646885  48.481514  59.472652  115.521790   \n",
       "        16                 0  31.988363  37.469818  38.470387   74.591270   \n",
       "\n",
       "                    ch5_std    ch6_std    ch7_std    ch8_std    ch9_std  \\\n",
       "patient sequence                                                          \n",
       "1       65        41.651985  35.953571  41.696873  53.415058  41.060280   \n",
       "        170       48.900314  41.770973  51.117962  54.301083  53.065399   \n",
       "        2         33.096092  31.394903  31.886017  37.874424  33.565372   \n",
       "        211       51.417587  43.347759  54.501293  66.106453  54.484615   \n",
       "        16        37.817921  29.824089  35.416916  45.146580  41.211319   \n",
       "\n",
       "                    ch10_std   ch11_std    ch12_std   ch13_std   ch14_std  \\\n",
       "patient sequence                                                            \n",
       "1       65        114.063362  56.787312   59.822887  96.437332  86.869263   \n",
       "        170        99.825851  82.284698  137.252090  90.898674  74.906319   \n",
       "        2          88.531799  46.635372   57.745369  59.586040  59.716976   \n",
       "        211       102.296196  88.339867  152.924759  99.217773  83.829041   \n",
       "        16         65.366302  49.781918   31.579468  67.788452  74.593742   \n",
       "\n",
       "                   ch15_std   ch16_std  patient  predicted_class  \n",
       "patient sequence                                                  \n",
       "1       65        67.066429  35.295109        1                0  \n",
       "        170       87.960327  53.753510        1                0  \n",
       "        2         54.871052  30.708910        1                0  \n",
       "        211       94.441162  58.176598        1                0  \n",
       "        16        44.673256  32.227440        1                0  "
      ]
     },
     "execution_count": 441,
     "metadata": {},
     "output_type": "execute_result"
    }
   ],
   "source": [
    "df_sub.head()"
   ]
  },
  {
   "cell_type": "code",
   "execution_count": 442,
   "metadata": {
    "collapsed": false
   },
   "outputs": [],
   "source": [
    "sample_sub = pd.read_csv('../sample_submission_new.csv')"
   ]
  },
  {
   "cell_type": "code",
   "execution_count": 443,
   "metadata": {
    "collapsed": false,
    "scrolled": true
   },
   "outputs": [
    {
     "data": {
      "text/html": [
       "<div>\n",
       "<table border=\"1\" class=\"dataframe\">\n",
       "  <thead>\n",
       "    <tr style=\"text-align: right;\">\n",
       "      <th></th>\n",
       "      <th>File</th>\n",
       "      <th>Class</th>\n",
       "    </tr>\n",
       "  </thead>\n",
       "  <tbody>\n",
       "    <tr>\n",
       "      <th>0</th>\n",
       "      <td>new_1_1.mat</td>\n",
       "      <td>0</td>\n",
       "    </tr>\n",
       "    <tr>\n",
       "      <th>1</th>\n",
       "      <td>new_1_2.mat</td>\n",
       "      <td>0</td>\n",
       "    </tr>\n",
       "    <tr>\n",
       "      <th>2</th>\n",
       "      <td>new_1_3.mat</td>\n",
       "      <td>0</td>\n",
       "    </tr>\n",
       "    <tr>\n",
       "      <th>3</th>\n",
       "      <td>new_1_4.mat</td>\n",
       "      <td>0</td>\n",
       "    </tr>\n",
       "    <tr>\n",
       "      <th>4</th>\n",
       "      <td>new_1_5.mat</td>\n",
       "      <td>0</td>\n",
       "    </tr>\n",
       "  </tbody>\n",
       "</table>\n",
       "</div>"
      ],
      "text/plain": [
       "          File  Class\n",
       "0  new_1_1.mat      0\n",
       "1  new_1_2.mat      0\n",
       "2  new_1_3.mat      0\n",
       "3  new_1_4.mat      0\n",
       "4  new_1_5.mat      0"
      ]
     },
     "execution_count": 443,
     "metadata": {},
     "output_type": "execute_result"
    }
   ],
   "source": [
    "sample_sub.head()"
   ]
  },
  {
   "cell_type": "code",
   "execution_count": 444,
   "metadata": {
    "collapsed": false,
    "scrolled": true
   },
   "outputs": [],
   "source": [
    "from seizureIO_testdata import get_patient_seq"
   ]
  },
  {
   "cell_type": "code",
   "execution_count": 445,
   "metadata": {
    "collapsed": true
   },
   "outputs": [],
   "source": [
    "def get_prediction(fname, current_value, df):\n",
    "    pat_seq = get_patient_seq(fname)[1:]\n",
    "    patient, sequence = [int(x) for x in pat_seq]\n",
    "    try:\n",
    "        row = df.loc[(df.index.get_level_values('patient') == patient) & (df.index.get_level_values('sequence') == sequence)]\n",
    "        return int(row['predicted_class'].values[0])\n",
    "    except Exception as exc:\n",
    "        print((fname, exc))\n",
    "        return current_value\n",
    "    "
   ]
  },
  {
   "cell_type": "code",
   "execution_count": 446,
   "metadata": {
    "collapsed": false
   },
   "outputs": [
    {
     "data": {
      "text/plain": [
       "patient  sequence\n",
       "2        1           0\n",
       "Name: predicted_class, dtype: int64"
      ]
     },
     "execution_count": 446,
     "metadata": {},
     "output_type": "execute_result"
    }
   ],
   "source": [
    "df_sub.loc[(df_sub.index.get_level_values('patient') == 2) & (df_sub.index.get_level_values('sequence') == 1)]['predicted_class'] \n"
   ]
  },
  {
   "cell_type": "code",
   "execution_count": 447,
   "metadata": {
    "collapsed": false
   },
   "outputs": [
    {
     "data": {
      "text/plain": [
       "count    216.000000\n",
       "mean       0.212963\n",
       "std        0.410353\n",
       "min        0.000000\n",
       "25%        0.000000\n",
       "50%        0.000000\n",
       "75%        0.000000\n",
       "max        1.000000\n",
       "Name: predicted_class, dtype: float64"
      ]
     },
     "execution_count": 447,
     "metadata": {},
     "output_type": "execute_result"
    }
   ],
   "source": [
    "df_sub.loc[(df_sub.index.get_level_values('patient') == 1)]['predicted_class'].describe() \n"
   ]
  },
  {
   "cell_type": "code",
   "execution_count": 448,
   "metadata": {
    "collapsed": true
   },
   "outputs": [],
   "source": [
    "tmp = sample_sub.apply(lambda row: get_prediction(row['File'], row['Class'], df_sub), axis=1)"
   ]
  },
  {
   "cell_type": "code",
   "execution_count": 449,
   "metadata": {
    "collapsed": false
   },
   "outputs": [],
   "source": [
    "sample_sub['Class'] = tmp"
   ]
  },
  {
   "cell_type": "code",
   "execution_count": 450,
   "metadata": {
    "collapsed": false
   },
   "outputs": [],
   "source": [
    "sample_sub.to_csv('forest_std_submission.csv', index=False)"
   ]
  },
  {
   "cell_type": "code",
   "execution_count": null,
   "metadata": {
    "collapsed": true
   },
   "outputs": [],
   "source": []
  }
 ],
 "metadata": {
  "kernelspec": {
   "display_name": "Python 3",
   "language": "python",
   "name": "python3"
  },
  "language_info": {
   "codemirror_mode": {
    "name": "ipython",
    "version": 3
   },
   "file_extension": ".py",
   "mimetype": "text/x-python",
   "name": "python",
   "nbconvert_exporter": "python",
   "pygments_lexer": "ipython3",
   "version": "3.5.1"
  }
 },
 "nbformat": 4,
 "nbformat_minor": 0
}
